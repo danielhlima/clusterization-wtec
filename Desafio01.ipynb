{
 "cells": [
  {
   "cell_type": "code",
   "execution_count": 3,
   "metadata": {},
   "outputs": [],
   "source": [
    "import numpy as np # linear algebra\n",
    "import pandas as pd # data processing, CSV file I/O (e.g. pd.read_csv)\n",
    "\n",
    "from sklearn.model_selection import train_test_split, GridSearchCV\n",
    "from sklearn.metrics import confusion_matrix, recall_score, precision_score\n",
    "from sklearn.metrics import classification_report, plot_confusion_matrix,accuracy_score\n",
    "from sklearn.ensemble import RandomForestClassifier\n",
    "\n",
    "import matplotlib.pyplot as plt\n",
    "import time\n",
    "from sklearn import preprocessing\n",
    "from sklearn.decomposition import PCA\n",
    "from sklearn.cluster import KMeans\n",
    "from sklearn.metrics import silhouette_score"
   ]
  },
  {
   "cell_type": "code",
   "execution_count": 4,
   "metadata": {},
   "outputs": [],
   "source": [
    "#INÍCIO DESAFIO 1"
   ]
  },
  {
   "cell_type": "code",
   "execution_count": 5,
   "metadata": {},
   "outputs": [],
   "source": [
    "#DEFINIÇÃO DAS FUNÇÕES UTILIZADAS NO PROJETO"
   ]
  },
  {
   "cell_type": "code",
   "execution_count": 8,
   "metadata": {},
   "outputs": [],
   "source": [
    "def printGeneralInfo(dataset):\n",
    "    print(dataset.isnull().sum())\n",
    "    print(\"\\n\")\n",
    "    print(dataset.info())\n",
    "    print(\"\\n\")\n",
    " \n",
    "def loadDataset():\n",
    "    global base_dataset\n",
    "    global work_dataset\n",
    "    base_dataset = pd.read_csv('solicitacoescredito.csv')\n",
    "    work_dataset = base_dataset.copy(deep=True)\n",
    "    \n",
    "def categoryToDummy(field, prefix, drop_first=True):\n",
    "    global work_dataset\n",
    "    t_dummy = pd.get_dummies(work_dataset[field], prefix=prefix, drop_first=drop_first)\n",
    "    work_dataset = pd.concat([work_dataset, t_dummy], axis =1)\n",
    "    work_dataset.drop([field], axis=1, inplace=True)\n",
    "    \n",
    "def transformDateFieldToInt(field):\n",
    "    global work_dataset\n",
    "    work_dataset[field] = pd.to_datetime(work_dataset[field], errors='coerce' )\n",
    "    work_dataset[field] = work_dataset[field].fillna(0).astype(np.int64, errors='ignore')\n",
    "    for index, value in work_dataset[field].items():\n",
    "        if(not isinstance(value, int)):\n",
    "            work_dataset[field][index] = time.mktime(value.timetuple())\n",
    "            \n",
    "def fillMissingValueWithZero(field):\n",
    "    global work_dataset\n",
    "    work_dataset[field] = work_dataset[field].fillna(0).astype(np.int64, errors='ignore')\n",
    "    \n",
    "def fillMissingValueByMean(field):\n",
    "    global work_dataset\n",
    "    work_dataset[field] = work_dataset[field].fillna(work_dataset[field].mean()).astype(np.int64, errors='ignore')\n",
    "\n",
    "def preprocessingDataset():\n",
    "    global df_to_classify\n",
    "    global work_dataset\n",
    "    #Tratamento coluna definicaoRisco\n",
    "    work_dataset.replace(to_replace='De 0 a 10 % - Muito Baixo', value='Muito Baixo', inplace=True)\n",
    "    work_dataset.replace(to_replace='De 11 a 30 % - Baixo', value='Baixo', inplace=True)\n",
    "    work_dataset.replace(to_replace='De 31 a 50 % - Médio', value='Medio', inplace=True)\n",
    "    work_dataset.replace(to_replace='De 51 a 80 % - Alto', value='Alto', inplace=True)\n",
    "    \n",
    "    #Campos default para remoção\n",
    "    work_dataset.drop(['numero_solicitacao', 'razaoSocial', 'nomeFantasia', 'cnpjSemTraco'], axis=1, inplace=True)\n",
    "    #Teste Piol\n",
    "    work_dataset.drop(['totalPatrimonioLiquido','restricoes','percentualProtestos','primeiraCompra','valorSolicitado','status', 'dashboardCorrelacao','valorAprovado', 'dataAprovadoEmComite','periodoBalanco', 'ativoCirculante', 'passivoCirculante', 'totalAtivo', 'endividamento', 'duplicatasAReceber', 'estoque', 'intervaloFundacao', 'empresa_MeEppMei', 'limiteEmpresaAnaliseCredito', 'dataAprovadoNivelAnalista'], axis=1, inplace=True)\n",
    "\n",
    "    categoryToDummy('definicaoRisco', 'Risco')\n",
    "    fillMissingValueWithZero('faturamentoBruto')\n",
    "    \n",
    "    #Tratamento de missing values com a média \n",
    "    fillMissingValueByMean('margemBruta')\n",
    "    fillMissingValueByMean('periodoDemonstrativoEmMeses')\n",
    "    fillMissingValueByMean('custos')\n",
    "    fillMissingValueByMean('anoFundacao')\n",
    "    fillMissingValueByMean('capitalSocial')\n",
    "    fillMissingValueByMean('scorePontualidade')\n",
    "    \n",
    "    work_dataset = work_dataset.loc[work_dataset['anoFundacao'] > 1001]\n",
    "    \n",
    "    work_dataset.dropna(inplace=True)\n",
    "    df_to_classify = work_dataset\n",
    "    \n",
    "def normalizeDataset():\n",
    "    global X_train_class\n",
    "    scaler_class = preprocessing.StandardScaler().fit(work_dataset.values)\n",
    "    print(\"Mean of Unscaled Features: {}\".format(np.mean(work_dataset.values))) \n",
    "    print(\"Standard Deviation of Unscaled Features: {}\".format(np.std(work_dataset.values)))\n",
    "    X_train_class = scaler_class.transform(work_dataset.values)\n",
    "    # Print the mean and standard deviation of the scaled features\n",
    "    print(\"Mean of Scaled Features: {}\".format(np.mean(X_train_class))) \n",
    "    print(\"Standard Deviation of Scaled Features: {}\".format(np.std(X_train_class)))\n",
    "    \n",
    "def applyPCA(numFeatures=10):\n",
    "    global X_train_plot\n",
    "    global X_train_class\n",
    "    X_train_plot = X_train_class\n",
    "    pca = PCA(numFeatures)\n",
    "    X_train_plot = pca.fit_transform(X_train_plot)\n",
    "    \n",
    "def calculateSilhouteScoreForKmeans():\n",
    "    global X_train_plot\n",
    "    range_n_clusters = [2, 3, 4, 5, 6, 7, 8, 9, 10, 11, 12]\n",
    "\n",
    "    for n_clusters in range_n_clusters:\n",
    "        clusterer = KMeans(n_clusters=n_clusters, random_state=10)\n",
    "        cluster_labels = clusterer.fit_predict(X_train_class)\n",
    "\n",
    "        silhouette_avg = silhouette_score(X_train_class, cluster_labels)\n",
    "        print(\"For n_clusters =\", n_clusters,\n",
    "              \"The average silhouette_score is :\", silhouette_avg)\n",
    "\n",
    "    \n",
    "def runKmeansWithNumClusters(num_clusters=5):\n",
    "    global label\n",
    "    global X_train_class\n",
    "    global df_to_classify \n",
    "    kmeans = KMeans(n_clusters=num_clusters)\n",
    "    label = kmeans.fit_predict(X_train_class)\n",
    "    df2 = pd.DataFrame(label, dtype=int, columns=list('y'))\n",
    "    df_to_classify['cluster'] = df2.values\n",
    "    \n",
    "def plot3DClusterization():\n",
    "    global X_train_class\n",
    "    filtered_label1 = X_train_class[label == 0]\n",
    "    filtered_label2 = X_train_class[label == 1]\n",
    "    filtered_label3 = X_train_class[label == 2]\n",
    "    filtered_label4 = X_train_class[label == 3]\n",
    "    filtered_label5 = X_train_class[label == 4]\n",
    "    \n",
    "    fig = plt.figure()\n",
    "    ax = fig.add_subplot(111, projection='3d')\n",
    "    \n",
    "    ax.scatter(filtered_label1[:,0] , filtered_label1[:,1], filtered_label1[:,2], color='orange')\n",
    "    ax.scatter(filtered_label2[:,0] , filtered_label2[:,1], filtered_label2[:,2], color='blue')\n",
    "    ax.scatter(filtered_label3[:,0] , filtered_label3[:,1], filtered_label3[:,2], color='green')\n",
    "    ax.scatter(filtered_label4[:,0] , filtered_label4[:,1], filtered_label4[:,2], color='cyan')\n",
    "    ax.scatter(filtered_label5[:,0] , filtered_label5[:,1], filtered_label5[:,2], color='black')\n",
    "    plt.show()\n",
    "\n",
    "def plot2DClusterization():\n",
    "    global X_train_plot\n",
    "    #plotting the results\n",
    "    filtered_label1 = X_train_plot[label == 0]\n",
    "    filtered_label2 = X_train_plot[label == 1]\n",
    "    filtered_label3 = X_train_plot[label == 2]\n",
    "    filtered_label4 = X_train_plot[label == 3]\n",
    "    filtered_label5 = X_train_plot[label == 4]\n",
    "    plt.scatter(filtered_label1[:,0] , filtered_label1[:,1], color='orange')\n",
    "    plt.scatter(filtered_label2[:,0] , filtered_label2[:,1], color='blue')\n",
    "    plt.scatter(filtered_label3[:,0] , filtered_label3[:,1], color='green')\n",
    "    plt.scatter(filtered_label4[:,0] , filtered_label4[:,1], color='cyan')\n",
    "    plt.scatter(filtered_label5[:,0] , filtered_label5[:,1], color='black')\n",
    "    plt.show()\n",
    "\n",
    "def exportClustarizationToExcel():\n",
    "    df_to_classify.to_csv('work_df_to_classifydataset.csv')"
   ]
  },
  {
   "cell_type": "code",
   "execution_count": 9,
   "metadata": {},
   "outputs": [],
   "source": [
    "#CARREGA O DATASET\n",
    "loadDataset()"
   ]
  },
  {
   "cell_type": "code",
   "execution_count": 10,
   "metadata": {},
   "outputs": [],
   "source": [
    "#VERIFICA CAMPOS NULOS"
   ]
  },
  {
   "cell_type": "code",
   "execution_count": 11,
   "metadata": {},
   "outputs": [
    {
     "data": {
      "text/plain": [
       "numero_solicitacao                0\n",
       "razaoSocial                       0\n",
       "nomeFantasia                      0\n",
       "cnpjSemTraco                      0\n",
       "maiorAtraso                       0\n",
       "margemBrutaAcumulada              0\n",
       "percentualProtestos            1498\n",
       "primeiraCompra                  106\n",
       "prazoMedioRecebimentoVendas       0\n",
       "titulosEmAberto                   0\n",
       "valorSolicitado                   0\n",
       "status                            0\n",
       "definicaoRisco                    0\n",
       "diferencaPercentualRisco          0\n",
       "percentualRisco                   0\n",
       "dashboardCorrelacao               0\n",
       "valorAprovado                  1404\n",
       "dataAprovadoEmComite           8415\n",
       "periodoBalanco                 4240\n",
       "ativoCirculante                4240\n",
       "passivoCirculante              4240\n",
       "totalAtivo                     4240\n",
       "totalPatrimonioLiquido         4240\n",
       "endividamento                  4240\n",
       "duplicatasAReceber             4240\n",
       "estoque                        4240\n",
       "faturamentoBruto                750\n",
       "margemBruta                     750\n",
       "periodoDemonstrativoEmMeses     750\n",
       "custos                          750\n",
       "anoFundacao                     745\n",
       "intervaloFundacao               745\n",
       "capitalSocial                   745\n",
       "restricoes                      745\n",
       "empresa_MeEppMei                745\n",
       "scorePontualidade                 0\n",
       "limiteEmpresaAnaliseCredito     745\n",
       "dataAprovadoNivelAnalista      1962\n",
       "dtype: int64"
      ]
     },
     "execution_count": 11,
     "metadata": {},
     "output_type": "execute_result"
    }
   ],
   "source": [
    "work_dataset.isnull().sum()"
   ]
  },
  {
   "cell_type": "code",
   "execution_count": 12,
   "metadata": {},
   "outputs": [],
   "source": [
    "#FAZ O PRÉ-PROCESSAMENTO\n",
    "preprocessingDataset()"
   ]
  },
  {
   "cell_type": "code",
   "execution_count": 13,
   "metadata": {},
   "outputs": [
    {
     "name": "stdout",
     "output_type": "stream",
     "text": [
      "Mean of Unscaled Features: 6700093.551625636\n",
      "Standard Deviation of Unscaled Features: 101956556.91361488\n",
      "Mean of Scaled Features: -3.203818265689004e-16\n",
      "Standard Deviation of Scaled Features: 1.0\n"
     ]
    }
   ],
   "source": [
    "#FAZ A NORMALIZAÇÃO\n",
    "normalizeDataset()"
   ]
  },
  {
   "cell_type": "code",
   "execution_count": 14,
   "metadata": {},
   "outputs": [
    {
     "name": "stdout",
     "output_type": "stream",
     "text": [
      "<class 'pandas.core.frame.DataFrame'>\n",
      "Int64Index: 8971 entries, 0 to 8972\n",
      "Data columns (total 16 columns):\n",
      " #   Column                       Non-Null Count  Dtype  \n",
      "---  ------                       --------------  -----  \n",
      " 0   maiorAtraso                  8971 non-null   int64  \n",
      " 1   margemBrutaAcumulada         8971 non-null   float64\n",
      " 2   prazoMedioRecebimentoVendas  8971 non-null   int64  \n",
      " 3   titulosEmAberto              8971 non-null   float64\n",
      " 4   diferencaPercentualRisco     8971 non-null   float64\n",
      " 5   percentualRisco              8971 non-null   float64\n",
      " 6   faturamentoBruto             8971 non-null   int64  \n",
      " 7   margemBruta                  8971 non-null   int64  \n",
      " 8   periodoDemonstrativoEmMeses  8971 non-null   int64  \n",
      " 9   custos                       8971 non-null   int64  \n",
      " 10  anoFundacao                  8971 non-null   int64  \n",
      " 11  capitalSocial                8971 non-null   int64  \n",
      " 12  scorePontualidade            8971 non-null   int64  \n",
      " 13  Risco_Baixo                  8971 non-null   uint8  \n",
      " 14  Risco_Medio                  8971 non-null   uint8  \n",
      " 15  Risco_Muito Baixo            8971 non-null   uint8  \n",
      "dtypes: float64(4), int64(9), uint8(3)\n",
      "memory usage: 1007.5 KB\n"
     ]
    }
   ],
   "source": [
    "#VERIFICA INFOS DO DATASET PRÉ-PROCESSADO\n",
    "work_dataset.info()"
   ]
  },
  {
   "cell_type": "code",
   "execution_count": 15,
   "metadata": {},
   "outputs": [
    {
     "name": "stdout",
     "output_type": "stream",
     "text": [
      "For n_clusters = 2 The average silhouette_score is : 0.2622436345409711\n",
      "For n_clusters = 3 The average silhouette_score is : 0.27345930223960546\n",
      "For n_clusters = 4 The average silhouette_score is : 0.32163135756644035\n",
      "For n_clusters = 5 The average silhouette_score is : 0.3295488842464148\n",
      "For n_clusters = 6 The average silhouette_score is : 0.2921265696806427\n",
      "For n_clusters = 7 The average silhouette_score is : 0.2923483514064684\n",
      "For n_clusters = 8 The average silhouette_score is : 0.29148872541057064\n",
      "For n_clusters = 9 The average silhouette_score is : 0.29336084915216465\n",
      "For n_clusters = 10 The average silhouette_score is : 0.28556156219963863\n",
      "For n_clusters = 11 The average silhouette_score is : 0.29366260015724227\n",
      "For n_clusters = 12 The average silhouette_score is : 0.29832572349255804\n"
     ]
    }
   ],
   "source": [
    "#CALCULA O MELHOR NÚMERO DE CLUSTERS COM O KMEANS\n",
    "calculateSilhouteScoreForKmeans()"
   ]
  },
  {
   "cell_type": "code",
   "execution_count": 16,
   "metadata": {},
   "outputs": [],
   "source": [
    "#RODA O KMEANS - (POR ENQUANTO MELHOR NÚMERO DE CLUSTERS SÃO 4)\n",
    "runKmeansWithNumClusters(4)"
   ]
  },
  {
   "cell_type": "code",
   "execution_count": 17,
   "metadata": {},
   "outputs": [],
   "source": [
    "#EXPORTA O DATASET PARA EXCEL,PARA SER USADO NO DESAFIO DE CLASSIFICAÇÃO\n",
    "exportClustarizationToExcel()"
   ]
  },
  {
   "cell_type": "code",
   "execution_count": 18,
   "metadata": {},
   "outputs": [],
   "source": [
    "#APLICA O PCA PARA FINS DE PLOTAGEM\n",
    "applyPCA(2)"
   ]
  },
  {
   "cell_type": "code",
   "execution_count": 19,
   "metadata": {},
   "outputs": [
    {
     "data": {
      "image/png": "[encoded data removed]",
      "text/plain": [
       "<Figure size 432x288 with 1 Axes>"
      ]
     },
     "metadata": {
      "needs_background": "light"
     },
     "output_type": "display_data"
    }
   ],
   "source": [
    "#FAZ O PLOT 3D\n",
    "plot3DClusterization()"
   ]
  },
  {
   "cell_type": "code",
   "execution_count": 20,
   "metadata": {},
   "outputs": [
    {
     "data": {
      "image/png": "[encoded data removed]",
      "text/plain": [
       "<Figure size 432x288 with 1 Axes>"
      ]
     },
     "metadata": {
      "needs_background": "light"
     },
     "output_type": "display_data"
    }
   ],
   "source": [
    "#FAZ O PLOT 2D\n",
    "plot2DClusterization()"
   ]
  },
  {
   "cell_type": "code",
   "execution_count": 21,
   "metadata": {},
   "outputs": [
    {
     "name": "stdout",
     "output_type": "stream",
     "text": [
      "maiorAtraso                    0\n",
      "margemBrutaAcumulada           0\n",
      "prazoMedioRecebimentoVendas    0\n",
      "titulosEmAberto                0\n",
      "diferencaPercentualRisco       0\n",
      "percentualRisco                0\n",
      "faturamentoBruto               0\n",
      "margemBruta                    0\n",
      "periodoDemonstrativoEmMeses    0\n",
      "custos                         0\n",
      "anoFundacao                    0\n",
      "capitalSocial                  0\n",
      "scorePontualidade              0\n",
      "Risco_Baixo                    0\n",
      "Risco_Medio                    0\n",
      "Risco_Muito Baixo              0\n",
      "cluster                        0\n",
      "dtype: int64\n",
      "\n",
      "\n",
      "<class 'pandas.core.frame.DataFrame'>\n",
      "Int64Index: 8971 entries, 0 to 8972\n",
      "Data columns (total 17 columns):\n",
      " #   Column                       Non-Null Count  Dtype  \n",
      "---  ------                       --------------  -----  \n",
      " 0   maiorAtraso                  8971 non-null   int64  \n",
      " 1   margemBrutaAcumulada         8971 non-null   float64\n",
      " 2   prazoMedioRecebimentoVendas  8971 non-null   int64  \n",
      " 3   titulosEmAberto              8971 non-null   float64\n",
      " 4   diferencaPercentualRisco     8971 non-null   float64\n",
      " 5   percentualRisco              8971 non-null   float64\n",
      " 6   faturamentoBruto             8971 non-null   int64  \n",
      " 7   margemBruta                  8971 non-null   int64  \n",
      " 8   periodoDemonstrativoEmMeses  8971 non-null   int64  \n",
      " 9   custos                       8971 non-null   int64  \n",
      " 10  anoFundacao                  8971 non-null   int64  \n",
      " 11  capitalSocial                8971 non-null   int64  \n",
      " 12  scorePontualidade            8971 non-null   int64  \n",
      " 13  Risco_Baixo                  8971 non-null   uint8  \n",
      " 14  Risco_Medio                  8971 non-null   uint8  \n",
      " 15  Risco_Muito Baixo            8971 non-null   uint8  \n",
      " 16  cluster                      8971 non-null   int32  \n",
      "dtypes: float64(4), int32(1), int64(9), uint8(3)\n",
      "memory usage: 1.0 MB\n",
      "None\n",
      "\n",
      "\n"
     ]
    }
   ],
   "source": [
    "#PRINT DAS INFORMAÇÕES BÁSICAS DO DATASET\n",
    "printGeneralInfo(work_dataset)"
   ]
  },
  {
   "cell_type": "code",
   "execution_count": null,
   "metadata": {},
   "outputs": [],
   "source": [
    "#FIM DO DESAFIO 1"
   ]
  }
 ],
 "metadata": {
  "kernelspec": {
   "display_name": "Python 3",
   "language": "python",
   "name": "python3"
  },
  "language_info": {
   "codemirror_mode": {
    "name": "ipython",
    "version": 3
   },
   "file_extension": ".py",
   "mimetype": "text/x-python",
   "name": "python",
   "nbconvert_exporter": "python",
   "pygments_lexer": "ipython3",
   "version": "3.8.3"
  }
 },
 "nbformat": 4,
 "nbformat_minor": 4
}
